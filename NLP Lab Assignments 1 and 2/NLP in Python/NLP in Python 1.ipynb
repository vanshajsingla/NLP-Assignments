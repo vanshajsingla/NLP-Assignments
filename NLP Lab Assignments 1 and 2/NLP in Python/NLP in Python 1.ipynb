{
 "cells": [
  {
   "attachments": {},
   "cell_type": "markdown",
   "id": "8159b41c",
   "metadata": {},
   "source": [
    "                                                    ASSIGNMENT 1 (NLP)\n",
    "                    NAME: VANSHAJ SINGLA               ROLL NO: 102003346                         GROUP: CO14"
   ]
  },
  {
   "cell_type": "markdown",
   "id": "e808f187",
   "metadata": {},
   "source": [
    "### Install a Few Additional Packages\n",
    "\n",
    "There are a few additional packages we'll be using during the tutorial that are not included when you download Anaconda - wordcloud, textblob and gensim.\n",
    "\n",
    "Open the Anaconda Prompt program. You should see a black window pop up. Type `conda install -c conda-forge wordcloud` to download wordcloud. You will be asked whether you want to proceed or not. Type `y` for yes. Once that is done, type `conda install -c conda-forge textblob` to download textblob and `y` to proceed, and type `conda install -c conda-forge gensim` to download gensim and `y` to proceed."
   ]
  },
  {
   "cell_type": "markdown",
   "id": "e7dfc4bf",
   "metadata": {},
   "source": [
    "|  |  |  |\n",
    "| --- | --- | --- |\n",
    "| Programming | Data | pandas, sklearn, re, nltk |\n",
    "| | NLP| TextBlob, gensim |         \n",
    "| Mathemetics & Statistics |Clean | corpus, document-term matrix |\n",
    "| | EDA | word counts |\n",
    "| | NLP | sentiment analysis,topic modeling, text generation |\n",
    "| Communication | Design | scope, visualize, extract insights|\n",
    "|| Domain | expertise |\n"
   ]
  },
  {
   "cell_type": "markdown",
   "id": "94aef0c1",
   "metadata": {},
   "source": [
    "For NLP through Python(or any other programming) you need sets of skill:\n",
    "1. Programming\n",
    "2. Maths & stats\n",
    "3. Communication\n",
    "\n",
    "We will go through over all three types of skills. \n",
    "In programming set of skill, we will use some Python libraries. For data analysis pandas will be used, we also need regular expression for text data. scikit-learn a great tool for data science has a lot of machine learnin tools. We will use it ot format some of our data.  Some couple of NLP libraries like NLTK natural language tool, textBlob built on NLTK and gensim for topic modeling. These are set of skill you require from Python.\n",
    "\n",
    "You need to understand concepts for interpritation of results. You need to clean raw data  and put in appropriate format for further processing. So the raw text data is general corpus format, then document term metrix. You need to do some exploratory data analysis(EDA) that generate and use word counts. Then three NLP skill sentiment analysis, topic modeling and text generation. Then finally there's this communication piece and usually all the soft skills. It has two parts. There is a design piece which is all about how you design a project and this is so important whenever I advise my students I find that this is where they struggle the most. So, just figuring out if you have a question like where to start, how do you scope out your project, what insights can you draw from that data, what visualizations can you make to communicate things more effectively. So, that's all about design. Then finally having some type of domain expertise is really important. \n"
   ]
  },
  {
   "cell_type": "markdown",
   "id": "1b25ad88",
   "metadata": {},
   "source": [
    "# Data Science Workflow\n",
    "\n",
    "NLP is a sub-domain of Data Science, so, start with introduction to general workflow in Data Science.\n",
    "1. Start with a Question\n",
    "2. Get & Clean the Data\n",
    "3. Perform EDA\n",
    "4. Apply Techniques\n",
    "5. Share Insights\n"
   ]
  },
  {
   "cell_type": "markdown",
   "id": "ae048a86",
   "metadata": {},
   "source": [
    "# A simple example"
   ]
  },
  {
   "cell_type": "markdown",
   "id": "4570f66a",
   "metadata": {},
   "source": [
    "### 1. Start with a Question\n",
    "\"If I study more, will I get a higher grade?\"\n",
    " \n",
    " Now, what data is required to answer this question?\n",
    " ->studies hours and grade of some students!\n",
    " \n",
    " | Student | Studied hours | Grade |\n",
    " | --- | --- | --- | \n",
    " | Naman | 25 | 10 |\n",
    " | Ankit | 7 | 7 |\n",
    " | Palak | Ten | 8 |\n",
    " | Ramu | 15 | 101 |"
   ]
  },
  {
   "cell_type": "markdown",
   "id": "1f41ec52",
   "metadata": {},
   "source": [
    "#### Assignment: \n",
    "1. Clean the data manualy.\n",
    "2. Add more row to above data and share with your friend. Your friend will clean it."
   ]
  },
  {
   "cell_type": "code",
   "execution_count": 34,
   "id": "126147c9",
   "metadata": {},
   "outputs": [
    {
     "name": "stdout",
     "output_type": "stream",
     "text": [
      "  Student Studied_hours  Grade\n",
      "0   Naman            25     10\n",
      "1   Ankit             7      7\n",
      "2   Palak           Ten      8\n",
      "3    Ramu            15    101\n",
      "\n",
      "\n",
      "  Student  Studied_hours  Grade\n",
      "0   Naman             25     10\n",
      "1   Ankit              7      7\n",
      "2   Palak             10      8\n",
      "3    Ramu             15    101\n",
      "\n",
      "\n",
      "  Student  Studied_hours  Grade\n",
      "0   Naman             25     10\n",
      "1   Ankit              7      7\n",
      "2   Palak             10      8\n",
      "3    Ramu             15     10\n"
     ]
    },
    {
     "data": {
      "text/html": [
       "<div>\n",
       "<style scoped>\n",
       "    .dataframe tbody tr th:only-of-type {\n",
       "        vertical-align: middle;\n",
       "    }\n",
       "\n",
       "    .dataframe tbody tr th {\n",
       "        vertical-align: top;\n",
       "    }\n",
       "\n",
       "    .dataframe thead th {\n",
       "        text-align: right;\n",
       "    }\n",
       "</style>\n",
       "<table border=\"1\" class=\"dataframe\">\n",
       "  <thead>\n",
       "    <tr style=\"text-align: right;\">\n",
       "      <th></th>\n",
       "      <th>Student</th>\n",
       "      <th>Studied_hours</th>\n",
       "      <th>Grade</th>\n",
       "    </tr>\n",
       "  </thead>\n",
       "  <tbody>\n",
       "    <tr>\n",
       "      <th>0</th>\n",
       "      <td>Naman</td>\n",
       "      <td>25</td>\n",
       "      <td>10</td>\n",
       "    </tr>\n",
       "    <tr>\n",
       "      <th>1</th>\n",
       "      <td>Ankit</td>\n",
       "      <td>7</td>\n",
       "      <td>7</td>\n",
       "    </tr>\n",
       "    <tr>\n",
       "      <th>2</th>\n",
       "      <td>Palak</td>\n",
       "      <td>10</td>\n",
       "      <td>8</td>\n",
       "    </tr>\n",
       "    <tr>\n",
       "      <th>3</th>\n",
       "      <td>Ramu</td>\n",
       "      <td>15</td>\n",
       "      <td>10</td>\n",
       "    </tr>\n",
       "    <tr>\n",
       "      <th>4</th>\n",
       "      <td>Amy</td>\n",
       "      <td>10</td>\n",
       "      <td>7</td>\n",
       "    </tr>\n",
       "    <tr>\n",
       "      <th>5</th>\n",
       "      <td>Karan</td>\n",
       "      <td>15</td>\n",
       "      <td>8</td>\n",
       "    </tr>\n",
       "    <tr>\n",
       "      <th>6</th>\n",
       "      <td>Rahul</td>\n",
       "      <td>16</td>\n",
       "      <td>9</td>\n",
       "    </tr>\n",
       "    <tr>\n",
       "      <th>7</th>\n",
       "      <td>Sahil</td>\n",
       "      <td>18</td>\n",
       "      <td>10</td>\n",
       "    </tr>\n",
       "  </tbody>\n",
       "</table>\n",
       "</div>"
      ],
      "text/plain": [
       "  Student  Studied_hours  Grade\n",
       "0   Naman             25     10\n",
       "1   Ankit              7      7\n",
       "2   Palak             10      8\n",
       "3    Ramu             15     10\n",
       "4     Amy             10      7\n",
       "5   Karan             15      8\n",
       "6   Rahul             16      9\n",
       "7   Sahil             18     10"
      ]
     },
     "execution_count": 34,
     "metadata": {},
     "output_type": "execute_result"
    }
   ],
   "source": [
    "import pandas as pd\n",
    "data={'Student':['Naman','Ankit','Palak','Ramu'],\n",
    "'Studied_hours':[25, 7, 'Ten', 15] ,\n",
    "'Grade':[10, 7, 8, 101]\n",
    "}\n",
    "df=pd.DataFrame(data) \n",
    "print(df)\n",
    "print('\\n')\n",
    "df['Studied_hours'].replace('Ten', 10, inplace=True)\n",
    "print(df)\n",
    "print('\\n')\n",
    "df['Grade'].replace(101, 10, inplace=True)\n",
    "print(df)\n",
    "df.loc[len(df.index)] = ['Amy', 10, 7] \n",
    "df.loc[len(df.index)] = ['Karan', 15, 8] \n",
    "df.loc[len(df.index)] = ['Rahul', 16, 9] \n",
    "df.loc[len(df.index)] = ['Sahil', 18, 10] \n",
    "df"
   ]
  },
  {
   "cell_type": "markdown",
   "id": "3ccf6464",
   "metadata": {},
   "source": [
    "### 2.  Get and Clean the data\n",
    "| Student | Studied hours | Grade |\n",
    " | --- | --- | --- | \n",
    " | Naman | 25 | 10 |\n",
    " | Ankit | 7 | 7 |\n",
    " | Palak | 10 | 8 |\n",
    " | Ramu | 15 | 10 |"
   ]
  },
  {
   "cell_type": "markdown",
   "id": "d04ad54a",
   "metadata": {},
   "source": [
    "### 3. Perform EDA\n",
    "#### Assignment: \n",
    "1. Perform EDA on cleaned data.(Hint plot the data) \n",
    "2. Write atleat two observation from EDA."
   ]
  },
  {
   "cell_type": "code",
   "execution_count": 35,
   "id": "798656bf",
   "metadata": {
    "scrolled": true
   },
   "outputs": [
    {
     "data": {
      "text/plain": [
       "Text(0.5, 1.0, 'Studied hours vs Grade')"
      ]
     },
     "execution_count": 35,
     "metadata": {},
     "output_type": "execute_result"
    },
    {
     "data": {
      "image/png": "[encoded data removed]",
      "text/plain": [
       "<Figure size 432x288 with 1 Axes>"
      ]
     },
     "metadata": {},
     "output_type": "display_data"
    }
   ],
   "source": [
    "import matplotlib.pyplot as plt\n",
    "\n",
    "plt.style.use('seaborn-white') \n",
    "plt.scatter(df['Grade'],df['Studied_hours'])\n",
    "plt.xlabel('Grade')\n",
    "plt.ylabel('Studied_hours')\n",
    "plt.title('Studied hours vs Grade')\n"
   ]
  },
  {
   "cell_type": "code",
   "execution_count": 36,
   "id": "17ccde11",
   "metadata": {},
   "outputs": [
    {
     "data": {
      "text/plain": [
       "Text(0.5, 1.0, 'Studied hours vs Grade')"
      ]
     },
     "execution_count": 36,
     "metadata": {},
     "output_type": "execute_result"
    },
    {
     "data": {
      "image/png": "[encoded data removed]",
      "text/plain": [
       "<Figure size 432x288 with 1 Axes>"
      ]
     },
     "metadata": {},
     "output_type": "display_data"
    }
   ],
   "source": [
    "plt.bar(df.Grade,df.Studied_hours, color ='maroon',width = 0.4)\n",
    "plt.xlabel('Grade')\n",
    "plt.ylabel('Studied_hours')\n",
    "plt.title('Studied hours vs Grade')"
   ]
  },
  {
   "cell_type": "markdown",
   "id": "85a2b8f5",
   "metadata": {},
   "source": [
    "### 4. Apply Techniques\n",
    "#### Assignment: \n",
    "1. Apply a machine learning or data science technique to encode your observation in EDA. (Hint: which type of realtion is associated between hours of study and grade)"
   ]
  },
  {
   "cell_type": "code",
   "execution_count": 37,
   "id": "bf59368b",
   "metadata": {},
   "outputs": [
    {
     "name": "stdout",
     "output_type": "stream",
     "text": [
      "intercept (c) 0.18976897689768985\n",
      "slope (m)  5.849834983498349\n"
     ]
    },
    {
     "data": {
      "text/html": [
       "<div>\n",
       "<style scoped>\n",
       "    .dataframe tbody tr th:only-of-type {\n",
       "        vertical-align: middle;\n",
       "    }\n",
       "\n",
       "    .dataframe tbody tr th {\n",
       "        vertical-align: top;\n",
       "    }\n",
       "\n",
       "    .dataframe thead th {\n",
       "        text-align: right;\n",
       "    }\n",
       "</style>\n",
       "<table border=\"1\" class=\"dataframe\">\n",
       "  <thead>\n",
       "    <tr style=\"text-align: right;\">\n",
       "      <th></th>\n",
       "      <th>Studied_hours</th>\n",
       "      <th>Grade</th>\n",
       "    </tr>\n",
       "  </thead>\n",
       "  <tbody>\n",
       "    <tr>\n",
       "      <th>Studied_hours</th>\n",
       "      <td>1.000000</td>\n",
       "      <td>0.827743</td>\n",
       "    </tr>\n",
       "    <tr>\n",
       "      <th>Grade</th>\n",
       "      <td>0.827743</td>\n",
       "      <td>1.000000</td>\n",
       "    </tr>\n",
       "  </tbody>\n",
       "</table>\n",
       "</div>"
      ],
      "text/plain": [
       "               Studied_hours     Grade\n",
       "Studied_hours       1.000000  0.827743\n",
       "Grade               0.827743  1.000000"
      ]
     },
     "execution_count": 37,
     "metadata": {},
     "output_type": "execute_result"
    }
   ],
   "source": [
    "\n",
    "#creating dataframe\n",
    "import numpy as np\n",
    "x=df.iloc[:,1]\n",
    "y=df.iloc[:,2]\n",
    "x = np.array(x)\n",
    "y = np.array(y)\n",
    "x=x.reshape(-1, 1)\n",
    "# #splitting dataset into training and testing\n",
    "from sklearn.model_selection import train_test_split\n",
    "x_train,x_test,y_train,y_test=train_test_split(x,y,test_size=1/3,random_state=0)\n",
    "\n",
    "\n",
    "# # Fitting simple linear regression to training dataset \n",
    "from sklearn.linear_model import LinearRegression\n",
    "regressor=LinearRegression()\n",
    "regressor.fit(x_train,y_train)\n",
    "print('intercept (c)' ,regressor.coef_[0])\n",
    "print('slope (m) ',regressor.intercept_)\n",
    "df.corr()\n",
    "\n"
   ]
  },
  {
   "cell_type": "markdown",
   "id": "58113c62",
   "metadata": {},
   "source": [
    "### 5. Share Insights\n",
    "#### Assignment:\n",
    "1. Is there any relation between the number of hours you study and the grade you will get? Represent the relation using graph.\n",
    "2. What is the speciffic mathemetical relationship between number of hours you study and the grade?\n",
    "3. Is there any abnormality? What conclusion you drown about abnormal data? \n",
    "\n",
    "\n"
   ]
  },
  {
   "cell_type": "code",
   "execution_count": 33,
   "id": "404a5db3",
   "metadata": {},
   "outputs": [
    {
     "name": "stdout",
     "output_type": "stream",
     "text": [
      "y = 5.849834983498349x + 0.18976897689768985\n"
     ]
    },
    {
     "data": {
      "image/png": "[encoded data removed]",
      "text/plain": [
       "<Figure size 432x288 with 1 Axes>"
      ]
     },
     "metadata": {},
     "output_type": "display_data"
    }
   ],
   "source": [
    "# # predicting test set results\n",
    "y_pred=regressor.predict(x_test)\n",
    "plt.scatter(x_train,y_train,color='red')\n",
    "# plt.scatter(x_test,y_test,color='green')\n",
    "plt.scatter(x_test,y_pred,color='magenta')\n",
    "plt.title('Linear regression Model')\n",
    "plt.xlabel('Studied_hours')\n",
    "plt.ylabel('Grade')\n",
    "plt.plot(x_train,regressor.predict(x_train),color='blue')\n",
    "rel = \"y = \" + str(regressor.intercept_) + \"x + \" + str(regressor.coef_[0])\n",
    "print(rel)"
   ]
  },
  {
   "attachments": {},
   "cell_type": "markdown",
   "id": "504ac6ed",
   "metadata": {},
   "source": [
    "Ans 1: We can clearly see from graph the number of hours you study and the grade you get are directly proportional.\n",
    "\n",
    "Ans 2: Mathematical rel : y = 5.849834983498349x + 0.18976897689768985\n",
    "\n",
    "Ans 3: Some outliers are present in the data which shows some abnormality.\n"
   ]
  }
 ],
 "metadata": {
  "kernelspec": {
   "display_name": "Python 3",
   "language": "python",
   "name": "python3"
  },
  "language_info": {
   "codemirror_mode": {
    "name": "ipython",
    "version": 3
   },
   "file_extension": ".py",
   "mimetype": "text/x-python",
   "name": "python",
   "nbconvert_exporter": "python",
   "pygments_lexer": "ipython3",
   "version": "3.10.2 (tags/v3.10.2:a58ebcc, Jan 17 2022, 14:12:15) [MSC v.1929 64 bit (AMD64)]"
  },
  "vscode": {
   "interpreter": {
    "hash": "b72fecbc99b9e9c3fbcc802f07cbc906940a8fa7aaf830932c7123d0afe84c65"
   }
  }
 },
 "nbformat": 4,
 "nbformat_minor": 5
}
